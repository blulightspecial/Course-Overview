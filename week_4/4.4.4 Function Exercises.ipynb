{
 "cells": [
  {
   "cell_type": "markdown",
   "metadata": {},
   "source": [
    "Write a function, sum_digits which takes an int and returns the sum of its digits.\n",
    "\n",
    "Prompt the user for their phone number, x.  \n",
    "\n",
    "First, using your function, compute x minus the sum of the digits of x and store it in the variable result.\n",
    "\n",
    "Next, if result has more than one digit, replace it by the sum of the digits of result.  Do this repeatedly until the result has just one digit, then display it.  \n",
    "\n",
    "What number do you get?"
   ]
  },
  {
   "cell_type": "code",
   "execution_count": 32,
   "metadata": {},
   "outputs": [
    {
     "name": "stdout",
     "output_type": "stream",
     "text": [
      "Input your phone number (no spaces, dashes, commas, or parentheses):5615123\n",
      "Round : 1 | Value: 18\n",
      "Round : 2 | Value: 9\n"
     ]
    }
   ],
   "source": [
    "def sum_digits(int1):\n",
    "    \"\"\" Take an int and return the sum of its digits\"\"\"\n",
    "    \n",
    "    #convert to int if the user accidentally provided a float\n",
    "    int1 = int(int1)\n",
    "    \n",
    "    intStr = str(int1)\n",
    "    \n",
    "    totalSum = 0\n",
    "    \n",
    "    for char in intStr:\n",
    "        totalSum += int(char)\n",
    "    \n",
    "    return totalSum\n",
    "\n",
    "x = int(input(\"Input your phone number (no spaces, dashes, commas, or parentheses):\"))\n",
    "runcount = 0\n",
    "result = x - sum_digits(x)\n",
    "\n",
    "while result//10 > 0:\n",
    "    result = sum_digits(result)\n",
    "    runcount += 1\n",
    "    print(\"Round :\",runcount,\"| Value:\",result)\n"
   ]
  },
  {
   "cell_type": "markdown",
   "metadata": {},
   "source": [
    "Write a function is_consonant() that takes a character and returns True if it is a consonant.\n",
    "\n",
    "Use your function to create a new fuction to_piglatin() that takes a word, moves all starting consonants to the end of the word, then adds ay to the end and returns the result.\n",
    "\n",
    "Prompt the user for their name and display the name in Pig Latin."
   ]
  },
  {
   "cell_type": "code",
   "execution_count": 33,
   "metadata": {},
   "outputs": [
    {
     "name": "stdout",
     "output_type": "stream",
     "text": [
      "Enter your name: Bob\n",
      "Obbay\n"
     ]
    }
   ],
   "source": [
    "def is_consonant(inChar):\n",
    "    inChar = str(inChar.lower())[0] #enforce string and single letter\n",
    "    return inChar not in \"aeiou\"\n",
    "\n",
    "def to_piglatin(inWord):\n",
    "    \"\"\"Turns a word into pig latin (does not account for cases where 'y' is the vowel (my, slyly, etc.))\"\"\"\n",
    "    inWord = str(inWord)\n",
    "    \n",
    "    idx = 0 #counter to help determine index of first vowel\n",
    "    \n",
    "    #loop through letters in word break out when a vowel is hit\n",
    "    for letter in inWord:\n",
    "        if is_consonant(letter):\n",
    "            idx +=1 \n",
    "        else:\n",
    "            break #a vowel was encountered\n",
    "    else:\n",
    "        return \"No Vowels, No Pig Latin\"\n",
    "    \n",
    "    return(inWord[idx:]+inWord[:idx]+\"ay\")\n",
    "\n",
    "print(to_piglatin(input(\"Enter your name: \")).capitalize())"
   ]
  }
 ],
 "metadata": {
  "kernelspec": {
   "display_name": "Python 3",
   "language": "python",
   "name": "python3"
  },
  "language_info": {
   "codemirror_mode": {
    "name": "ipython",
    "version": 3
   },
   "file_extension": ".py",
   "mimetype": "text/x-python",
   "name": "python",
   "nbconvert_exporter": "python",
   "pygments_lexer": "ipython3",
   "version": "3.7.3"
  }
 },
 "nbformat": 4,
 "nbformat_minor": 1
}
